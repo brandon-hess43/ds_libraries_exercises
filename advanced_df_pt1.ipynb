{
 "cells": [
  {
   "cell_type": "code",
   "execution_count": 1,
   "id": "98094e72-4f94-4ee6-a888-ff2ae367ab19",
   "metadata": {},
   "outputs": [],
   "source": [
    "import pandas as pd"
   ]
  },
  {
   "cell_type": "code",
   "execution_count": 2,
   "id": "27647d92-a733-4d07-bb33-6339570ad86e",
   "metadata": {
    "tags": []
   },
   "outputs": [],
   "source": [
    "import numpy as np"
   ]
  },
  {
   "cell_type": "markdown",
   "id": "aaf6f94f-db8d-4cc9-862c-320b38084aed",
   "metadata": {
    "tags": []
   },
   "source": [
    "# Part 1"
   ]
  },
  {
   "cell_type": "markdown",
   "id": "b455018c-67ad-40c6-a682-f57053302d28",
   "metadata": {},
   "source": [
    "`[protocol]://[user]:[password]@[host]/[database_name]`"
   ]
  },
  {
   "cell_type": "markdown",
   "id": "b4859a63-66d7-4e21-98c0-0738a350080a",
   "metadata": {},
   "source": [
    "get_db_url = 'mysql+pymysql://codeup:p@assw0rd@123.123.123.123/some_db'\n"
   ]
  },
  {
   "cell_type": "markdown",
   "id": "57028576-f9bc-4fbf-9f49-f10f8f639089",
   "metadata": {},
   "source": [
    "'mysql+pymysql://codeup:p@assw0rd@123.123.123.123/some_db'"
   ]
  },
  {
   "cell_type": "code",
   "execution_count": 3,
   "id": "68e63943-9253-4bbd-98cb-90ae5538fbcb",
   "metadata": {
    "tags": []
   },
   "outputs": [],
   "source": [
    "import env"
   ]
  },
  {
   "cell_type": "code",
   "execution_count": 5,
   "id": "87ac9888-965f-401e-9bbd-52d7f89b7173",
   "metadata": {
    "tags": []
   },
   "outputs": [],
   "source": [
    "url = f'mysql+pymysql://{env.user}:{env.password}@{env.host}/employees'"
   ]
  },
  {
   "cell_type": "code",
   "execution_count": 25,
   "id": "85ccbe53-6d7e-41fe-93c7-51d6c9558b2d",
   "metadata": {
    "tags": []
   },
   "outputs": [
    {
     "data": {
      "text/html": [
       "<div>\n",
       "<style scoped>\n",
       "    .dataframe tbody tr th:only-of-type {\n",
       "        vertical-align: middle;\n",
       "    }\n",
       "\n",
       "    .dataframe tbody tr th {\n",
       "        vertical-align: top;\n",
       "    }\n",
       "\n",
       "    .dataframe thead th {\n",
       "        text-align: right;\n",
       "    }\n",
       "</style>\n",
       "<table border=\"1\" class=\"dataframe\">\n",
       "  <thead>\n",
       "    <tr style=\"text-align: right;\">\n",
       "      <th></th>\n",
       "      <th>emp_no</th>\n",
       "      <th>birth_date</th>\n",
       "      <th>first_name</th>\n",
       "      <th>last_name</th>\n",
       "      <th>gender</th>\n",
       "      <th>hire_date</th>\n",
       "    </tr>\n",
       "  </thead>\n",
       "  <tbody>\n",
       "    <tr>\n",
       "      <th>0</th>\n",
       "      <td>10001</td>\n",
       "      <td>1953-09-02</td>\n",
       "      <td>Georgi</td>\n",
       "      <td>Facello</td>\n",
       "      <td>M</td>\n",
       "      <td>1986-06-26</td>\n",
       "    </tr>\n",
       "    <tr>\n",
       "      <th>1</th>\n",
       "      <td>10002</td>\n",
       "      <td>1964-06-02</td>\n",
       "      <td>Bezalel</td>\n",
       "      <td>Simmel</td>\n",
       "      <td>F</td>\n",
       "      <td>1985-11-21</td>\n",
       "    </tr>\n",
       "    <tr>\n",
       "      <th>2</th>\n",
       "      <td>10003</td>\n",
       "      <td>1959-12-03</td>\n",
       "      <td>Parto</td>\n",
       "      <td>Bamford</td>\n",
       "      <td>M</td>\n",
       "      <td>1986-08-28</td>\n",
       "    </tr>\n",
       "    <tr>\n",
       "      <th>3</th>\n",
       "      <td>10004</td>\n",
       "      <td>1954-05-01</td>\n",
       "      <td>Chirstian</td>\n",
       "      <td>Koblick</td>\n",
       "      <td>M</td>\n",
       "      <td>1986-12-01</td>\n",
       "    </tr>\n",
       "    <tr>\n",
       "      <th>4</th>\n",
       "      <td>10005</td>\n",
       "      <td>1955-01-21</td>\n",
       "      <td>Kyoichi</td>\n",
       "      <td>Maliniak</td>\n",
       "      <td>M</td>\n",
       "      <td>1989-09-12</td>\n",
       "    </tr>\n",
       "    <tr>\n",
       "      <th>...</th>\n",
       "      <td>...</td>\n",
       "      <td>...</td>\n",
       "      <td>...</td>\n",
       "      <td>...</td>\n",
       "      <td>...</td>\n",
       "      <td>...</td>\n",
       "    </tr>\n",
       "    <tr>\n",
       "      <th>300019</th>\n",
       "      <td>499995</td>\n",
       "      <td>1958-09-24</td>\n",
       "      <td>Dekang</td>\n",
       "      <td>Lichtner</td>\n",
       "      <td>F</td>\n",
       "      <td>1993-01-12</td>\n",
       "    </tr>\n",
       "    <tr>\n",
       "      <th>300020</th>\n",
       "      <td>499996</td>\n",
       "      <td>1953-03-07</td>\n",
       "      <td>Zito</td>\n",
       "      <td>Baaz</td>\n",
       "      <td>M</td>\n",
       "      <td>1990-09-27</td>\n",
       "    </tr>\n",
       "    <tr>\n",
       "      <th>300021</th>\n",
       "      <td>499997</td>\n",
       "      <td>1961-08-03</td>\n",
       "      <td>Berhard</td>\n",
       "      <td>Lenart</td>\n",
       "      <td>M</td>\n",
       "      <td>1986-04-21</td>\n",
       "    </tr>\n",
       "    <tr>\n",
       "      <th>300022</th>\n",
       "      <td>499998</td>\n",
       "      <td>1956-09-05</td>\n",
       "      <td>Patricia</td>\n",
       "      <td>Breugel</td>\n",
       "      <td>M</td>\n",
       "      <td>1993-10-13</td>\n",
       "    </tr>\n",
       "    <tr>\n",
       "      <th>300023</th>\n",
       "      <td>499999</td>\n",
       "      <td>1958-05-01</td>\n",
       "      <td>Sachin</td>\n",
       "      <td>Tsukuda</td>\n",
       "      <td>M</td>\n",
       "      <td>1997-11-30</td>\n",
       "    </tr>\n",
       "  </tbody>\n",
       "</table>\n",
       "<p>300024 rows × 6 columns</p>\n",
       "</div>"
      ],
      "text/plain": [
       "        emp_no  birth_date first_name last_name gender   hire_date\n",
       "0        10001  1953-09-02     Georgi   Facello      M  1986-06-26\n",
       "1        10002  1964-06-02    Bezalel    Simmel      F  1985-11-21\n",
       "2        10003  1959-12-03      Parto   Bamford      M  1986-08-28\n",
       "3        10004  1954-05-01  Chirstian   Koblick      M  1986-12-01\n",
       "4        10005  1955-01-21    Kyoichi  Maliniak      M  1989-09-12\n",
       "...        ...         ...        ...       ...    ...         ...\n",
       "300019  499995  1958-09-24     Dekang  Lichtner      F  1993-01-12\n",
       "300020  499996  1953-03-07       Zito      Baaz      M  1990-09-27\n",
       "300021  499997  1961-08-03    Berhard    Lenart      M  1986-04-21\n",
       "300022  499998  1956-09-05   Patricia   Breugel      M  1993-10-13\n",
       "300023  499999  1958-05-01     Sachin   Tsukuda      M  1997-11-30\n",
       "\n",
       "[300024 rows x 6 columns]"
      ]
     },
     "execution_count": 25,
     "metadata": {},
     "output_type": "execute_result"
    }
   ],
   "source": [
    "employees = pd.read_sql('select * from employees', url)\n",
    "employees"
   ]
  },
  {
   "cell_type": "code",
   "execution_count": 27,
   "id": "1d7630b7-664f-4f3d-bf1e-8d930617a517",
   "metadata": {
    "tags": []
   },
   "outputs": [
    {
     "data": {
      "text/html": [
       "<div>\n",
       "<style scoped>\n",
       "    .dataframe tbody tr th:only-of-type {\n",
       "        vertical-align: middle;\n",
       "    }\n",
       "\n",
       "    .dataframe tbody tr th {\n",
       "        vertical-align: top;\n",
       "    }\n",
       "\n",
       "    .dataframe thead th {\n",
       "        text-align: right;\n",
       "    }\n",
       "</style>\n",
       "<table border=\"1\" class=\"dataframe\">\n",
       "  <thead>\n",
       "    <tr style=\"text-align: right;\">\n",
       "      <th></th>\n",
       "      <th>emp_no</th>\n",
       "      <th>title</th>\n",
       "      <th>from_date</th>\n",
       "      <th>to_date</th>\n",
       "    </tr>\n",
       "  </thead>\n",
       "  <tbody>\n",
       "    <tr>\n",
       "      <th>0</th>\n",
       "      <td>10001</td>\n",
       "      <td>Senior Engineer</td>\n",
       "      <td>1986-06-26</td>\n",
       "      <td>9999-01-01</td>\n",
       "    </tr>\n",
       "    <tr>\n",
       "      <th>1</th>\n",
       "      <td>10002</td>\n",
       "      <td>Staff</td>\n",
       "      <td>1996-08-03</td>\n",
       "      <td>9999-01-01</td>\n",
       "    </tr>\n",
       "    <tr>\n",
       "      <th>2</th>\n",
       "      <td>10003</td>\n",
       "      <td>Senior Engineer</td>\n",
       "      <td>1995-12-03</td>\n",
       "      <td>9999-01-01</td>\n",
       "    </tr>\n",
       "    <tr>\n",
       "      <th>3</th>\n",
       "      <td>10004</td>\n",
       "      <td>Engineer</td>\n",
       "      <td>1986-12-01</td>\n",
       "      <td>1995-12-01</td>\n",
       "    </tr>\n",
       "    <tr>\n",
       "      <th>4</th>\n",
       "      <td>10004</td>\n",
       "      <td>Senior Engineer</td>\n",
       "      <td>1995-12-01</td>\n",
       "      <td>9999-01-01</td>\n",
       "    </tr>\n",
       "    <tr>\n",
       "      <th>...</th>\n",
       "      <td>...</td>\n",
       "      <td>...</td>\n",
       "      <td>...</td>\n",
       "      <td>...</td>\n",
       "    </tr>\n",
       "    <tr>\n",
       "      <th>443303</th>\n",
       "      <td>499997</td>\n",
       "      <td>Engineer</td>\n",
       "      <td>1987-08-30</td>\n",
       "      <td>1992-08-29</td>\n",
       "    </tr>\n",
       "    <tr>\n",
       "      <th>443304</th>\n",
       "      <td>499997</td>\n",
       "      <td>Senior Engineer</td>\n",
       "      <td>1992-08-29</td>\n",
       "      <td>9999-01-01</td>\n",
       "    </tr>\n",
       "    <tr>\n",
       "      <th>443305</th>\n",
       "      <td>499998</td>\n",
       "      <td>Senior Staff</td>\n",
       "      <td>1998-12-27</td>\n",
       "      <td>9999-01-01</td>\n",
       "    </tr>\n",
       "    <tr>\n",
       "      <th>443306</th>\n",
       "      <td>499998</td>\n",
       "      <td>Staff</td>\n",
       "      <td>1993-12-27</td>\n",
       "      <td>1998-12-27</td>\n",
       "    </tr>\n",
       "    <tr>\n",
       "      <th>443307</th>\n",
       "      <td>499999</td>\n",
       "      <td>Engineer</td>\n",
       "      <td>1997-11-30</td>\n",
       "      <td>9999-01-01</td>\n",
       "    </tr>\n",
       "  </tbody>\n",
       "</table>\n",
       "<p>443308 rows × 4 columns</p>\n",
       "</div>"
      ],
      "text/plain": [
       "        emp_no            title   from_date     to_date\n",
       "0        10001  Senior Engineer  1986-06-26  9999-01-01\n",
       "1        10002            Staff  1996-08-03  9999-01-01\n",
       "2        10003  Senior Engineer  1995-12-03  9999-01-01\n",
       "3        10004         Engineer  1986-12-01  1995-12-01\n",
       "4        10004  Senior Engineer  1995-12-01  9999-01-01\n",
       "...        ...              ...         ...         ...\n",
       "443303  499997         Engineer  1987-08-30  1992-08-29\n",
       "443304  499997  Senior Engineer  1992-08-29  9999-01-01\n",
       "443305  499998     Senior Staff  1998-12-27  9999-01-01\n",
       "443306  499998            Staff  1993-12-27  1998-12-27\n",
       "443307  499999         Engineer  1997-11-30  9999-01-01\n",
       "\n",
       "[443308 rows x 4 columns]"
      ]
     },
     "execution_count": 27,
     "metadata": {},
     "output_type": "execute_result"
    }
   ],
   "source": [
    "titles = pd.read_sql('select * from titles', url)\n",
    "titles"
   ]
  },
  {
   "cell_type": "code",
   "execution_count": 29,
   "id": "c20ad5e0-8e72-4d4f-9115-1f5fa05cd89d",
   "metadata": {
    "tags": []
   },
   "outputs": [
    {
     "data": {
      "text/plain": [
       "(443308, 4)"
      ]
     },
     "execution_count": 29,
     "metadata": {},
     "output_type": "execute_result"
    }
   ],
   "source": [
    "titles.shape\n"
   ]
  },
  {
   "cell_type": "code",
   "execution_count": 30,
   "id": "f7d71446-7cc4-4acb-86fa-a41e4ca121e0",
   "metadata": {
    "tags": []
   },
   "outputs": [
    {
     "data": {
      "text/plain": [
       "(300024, 6)"
      ]
     },
     "execution_count": 30,
     "metadata": {},
     "output_type": "execute_result"
    }
   ],
   "source": [
    "employees.shape"
   ]
  },
  {
   "cell_type": "code",
   "execution_count": 31,
   "id": "3dd1e996-110d-4f3b-b33f-b9a76535feff",
   "metadata": {
    "tags": []
   },
   "outputs": [
    {
     "data": {
      "text/html": [
       "<div>\n",
       "<style scoped>\n",
       "    .dataframe tbody tr th:only-of-type {\n",
       "        vertical-align: middle;\n",
       "    }\n",
       "\n",
       "    .dataframe tbody tr th {\n",
       "        vertical-align: top;\n",
       "    }\n",
       "\n",
       "    .dataframe thead th {\n",
       "        text-align: right;\n",
       "    }\n",
       "</style>\n",
       "<table border=\"1\" class=\"dataframe\">\n",
       "  <thead>\n",
       "    <tr style=\"text-align: right;\">\n",
       "      <th></th>\n",
       "      <th>emp_no</th>\n",
       "      <th>title</th>\n",
       "      <th>from_date</th>\n",
       "      <th>to_date</th>\n",
       "    </tr>\n",
       "  </thead>\n",
       "  <tbody>\n",
       "    <tr>\n",
       "      <th>count</th>\n",
       "      <td>443308.000000</td>\n",
       "      <td>443308</td>\n",
       "      <td>443308</td>\n",
       "      <td>443308</td>\n",
       "    </tr>\n",
       "    <tr>\n",
       "      <th>unique</th>\n",
       "      <td>NaN</td>\n",
       "      <td>7</td>\n",
       "      <td>6393</td>\n",
       "      <td>5888</td>\n",
       "    </tr>\n",
       "    <tr>\n",
       "      <th>top</th>\n",
       "      <td>NaN</td>\n",
       "      <td>Engineer</td>\n",
       "      <td>1998-10-25</td>\n",
       "      <td>9999-01-01</td>\n",
       "    </tr>\n",
       "    <tr>\n",
       "      <th>freq</th>\n",
       "      <td>NaN</td>\n",
       "      <td>115003</td>\n",
       "      <td>132</td>\n",
       "      <td>240124</td>\n",
       "    </tr>\n",
       "    <tr>\n",
       "      <th>mean</th>\n",
       "      <td>253075.034430</td>\n",
       "      <td>NaN</td>\n",
       "      <td>NaN</td>\n",
       "      <td>NaN</td>\n",
       "    </tr>\n",
       "    <tr>\n",
       "      <th>std</th>\n",
       "      <td>161853.292613</td>\n",
       "      <td>NaN</td>\n",
       "      <td>NaN</td>\n",
       "      <td>NaN</td>\n",
       "    </tr>\n",
       "    <tr>\n",
       "      <th>min</th>\n",
       "      <td>10001.000000</td>\n",
       "      <td>NaN</td>\n",
       "      <td>NaN</td>\n",
       "      <td>NaN</td>\n",
       "    </tr>\n",
       "    <tr>\n",
       "      <th>25%</th>\n",
       "      <td>84855.750000</td>\n",
       "      <td>NaN</td>\n",
       "      <td>NaN</td>\n",
       "      <td>NaN</td>\n",
       "    </tr>\n",
       "    <tr>\n",
       "      <th>50%</th>\n",
       "      <td>249847.500000</td>\n",
       "      <td>NaN</td>\n",
       "      <td>NaN</td>\n",
       "      <td>NaN</td>\n",
       "    </tr>\n",
       "    <tr>\n",
       "      <th>75%</th>\n",
       "      <td>424891.250000</td>\n",
       "      <td>NaN</td>\n",
       "      <td>NaN</td>\n",
       "      <td>NaN</td>\n",
       "    </tr>\n",
       "    <tr>\n",
       "      <th>max</th>\n",
       "      <td>499999.000000</td>\n",
       "      <td>NaN</td>\n",
       "      <td>NaN</td>\n",
       "      <td>NaN</td>\n",
       "    </tr>\n",
       "  </tbody>\n",
       "</table>\n",
       "</div>"
      ],
      "text/plain": [
       "               emp_no     title   from_date     to_date\n",
       "count   443308.000000    443308      443308      443308\n",
       "unique            NaN         7        6393        5888\n",
       "top               NaN  Engineer  1998-10-25  9999-01-01\n",
       "freq              NaN    115003         132      240124\n",
       "mean    253075.034430       NaN         NaN         NaN\n",
       "std     161853.292613       NaN         NaN         NaN\n",
       "min      10001.000000       NaN         NaN         NaN\n",
       "25%      84855.750000       NaN         NaN         NaN\n",
       "50%     249847.500000       NaN         NaN         NaN\n",
       "75%     424891.250000       NaN         NaN         NaN\n",
       "max     499999.000000       NaN         NaN         NaN"
      ]
     },
     "execution_count": 31,
     "metadata": {},
     "output_type": "execute_result"
    }
   ],
   "source": [
    "titles.describe(include = 'all')"
   ]
  },
  {
   "cell_type": "code",
   "execution_count": 13,
   "id": "0599f0c8-6cd1-4866-a80b-47ad8a7ec2d0",
   "metadata": {
    "tags": []
   },
   "outputs": [
    {
     "name": "stdout",
     "output_type": "stream",
     "text": [
      "<class 'pandas.core.frame.DataFrame'>\n",
      "RangeIndex: 5 entries, 0 to 4\n",
      "Data columns (total 4 columns):\n",
      " #   Column     Non-Null Count  Dtype \n",
      "---  ------     --------------  ----- \n",
      " 0   emp_no     5 non-null      int64 \n",
      " 1   title      5 non-null      object\n",
      " 2   from_date  5 non-null      object\n",
      " 3   to_date    5 non-null      object\n",
      "dtypes: int64(1), object(3)\n",
      "memory usage: 292.0+ bytes\n"
     ]
    }
   ],
   "source": [
    "titles.info()"
   ]
  },
  {
   "cell_type": "code",
   "execution_count": 15,
   "id": "ad97492c-66ea-426e-972e-536093524d7c",
   "metadata": {
    "tags": []
   },
   "outputs": [
    {
     "data": {
      "text/plain": [
       "emp_no        int64\n",
       "title        object\n",
       "from_date    object\n",
       "to_date      object\n",
       "dtype: object"
      ]
     },
     "execution_count": 15,
     "metadata": {},
     "output_type": "execute_result"
    }
   ],
   "source": [
    "titles.dtypes"
   ]
  },
  {
   "cell_type": "code",
   "execution_count": 33,
   "id": "bac80c12-560a-4f32-8163-c41b3212f6b3",
   "metadata": {
    "tags": []
   },
   "outputs": [
    {
     "data": {
      "text/html": [
       "<div>\n",
       "<style scoped>\n",
       "    .dataframe tbody tr th:only-of-type {\n",
       "        vertical-align: middle;\n",
       "    }\n",
       "\n",
       "    .dataframe tbody tr th {\n",
       "        vertical-align: top;\n",
       "    }\n",
       "\n",
       "    .dataframe thead th {\n",
       "        text-align: right;\n",
       "    }\n",
       "</style>\n",
       "<table border=\"1\" class=\"dataframe\">\n",
       "  <thead>\n",
       "    <tr style=\"text-align: right;\">\n",
       "      <th></th>\n",
       "      <th>title</th>\n",
       "    </tr>\n",
       "  </thead>\n",
       "  <tbody>\n",
       "    <tr>\n",
       "      <th>0</th>\n",
       "      <td>Senior Engineer</td>\n",
       "    </tr>\n",
       "    <tr>\n",
       "      <th>1</th>\n",
       "      <td>Staff</td>\n",
       "    </tr>\n",
       "    <tr>\n",
       "      <th>2</th>\n",
       "      <td>Engineer</td>\n",
       "    </tr>\n",
       "    <tr>\n",
       "      <th>3</th>\n",
       "      <td>Senior Staff</td>\n",
       "    </tr>\n",
       "    <tr>\n",
       "      <th>4</th>\n",
       "      <td>Assistant Engineer</td>\n",
       "    </tr>\n",
       "    <tr>\n",
       "      <th>5</th>\n",
       "      <td>Technique Leader</td>\n",
       "    </tr>\n",
       "    <tr>\n",
       "      <th>6</th>\n",
       "      <td>Manager</td>\n",
       "    </tr>\n",
       "  </tbody>\n",
       "</table>\n",
       "</div>"
      ],
      "text/plain": [
       "                title\n",
       "0     Senior Engineer\n",
       "1               Staff\n",
       "2            Engineer\n",
       "3        Senior Staff\n",
       "4  Assistant Engineer\n",
       "5    Technique Leader\n",
       "6             Manager"
      ]
     },
     "execution_count": 33,
     "metadata": {},
     "output_type": "execute_result"
    }
   ],
   "source": [
    "pd.read_sql('''\n",
    "select distinct title\n",
    "from employees.titles;\n",
    "''', url)"
   ]
  },
  {
   "cell_type": "code",
   "execution_count": 35,
   "id": "a2945a3a-afb7-4799-ac76-74877aa3c0cd",
   "metadata": {
    "tags": []
   },
   "outputs": [
    {
     "data": {
      "text/plain": [
       "7"
      ]
     },
     "execution_count": 35,
     "metadata": {},
     "output_type": "execute_result"
    }
   ],
   "source": [
    "len(titles.title.unique())"
   ]
  },
  {
   "cell_type": "code",
   "execution_count": 36,
   "id": "8217e32c-e31b-4ad4-94df-36a84ee49512",
   "metadata": {
    "tags": []
   },
   "outputs": [
    {
     "data": {
      "text/plain": [
       "7"
      ]
     },
     "execution_count": 36,
     "metadata": {},
     "output_type": "execute_result"
    }
   ],
   "source": [
    "titles.title.nunique()"
   ]
  },
  {
   "cell_type": "code",
   "execution_count": 37,
   "id": "3e0ac67f-a33e-4e2f-94d7-b3f542c57a22",
   "metadata": {
    "tags": []
   },
   "outputs": [
    {
     "data": {
      "text/html": [
       "<div>\n",
       "<style scoped>\n",
       "    .dataframe tbody tr th:only-of-type {\n",
       "        vertical-align: middle;\n",
       "    }\n",
       "\n",
       "    .dataframe tbody tr th {\n",
       "        vertical-align: top;\n",
       "    }\n",
       "\n",
       "    .dataframe thead th {\n",
       "        text-align: right;\n",
       "    }\n",
       "</style>\n",
       "<table border=\"1\" class=\"dataframe\">\n",
       "  <thead>\n",
       "    <tr style=\"text-align: right;\">\n",
       "      <th></th>\n",
       "      <th>min(to_date)</th>\n",
       "    </tr>\n",
       "  </thead>\n",
       "  <tbody>\n",
       "    <tr>\n",
       "      <th>0</th>\n",
       "      <td>1985-03-01</td>\n",
       "    </tr>\n",
       "  </tbody>\n",
       "</table>\n",
       "</div>"
      ],
      "text/plain": [
       "  min(to_date)\n",
       "0   1985-03-01"
      ]
     },
     "execution_count": 37,
     "metadata": {},
     "output_type": "execute_result"
    }
   ],
   "source": [
    "pd.read_sql('''\n",
    "SELECT min(to_date)\n",
    "from employees.titles;\n",
    "''', url)"
   ]
  },
  {
   "cell_type": "code",
   "execution_count": 38,
   "id": "ccb68e10-2850-4be4-89a9-2c4ce75c1e3a",
   "metadata": {
    "tags": []
   },
   "outputs": [
    {
     "data": {
      "text/plain": [
       "datetime.date(1985, 3, 1)"
      ]
     },
     "execution_count": 38,
     "metadata": {},
     "output_type": "execute_result"
    }
   ],
   "source": [
    "titles.to_date.min()"
   ]
  },
  {
   "cell_type": "code",
   "execution_count": 24,
   "id": "41f7b914-0c40-427c-af4b-91c3ee9e7109",
   "metadata": {
    "tags": []
   },
   "outputs": [
    {
     "data": {
      "text/html": [
       "<div>\n",
       "<style scoped>\n",
       "    .dataframe tbody tr th:only-of-type {\n",
       "        vertical-align: middle;\n",
       "    }\n",
       "\n",
       "    .dataframe tbody tr th {\n",
       "        vertical-align: top;\n",
       "    }\n",
       "\n",
       "    .dataframe thead th {\n",
       "        text-align: right;\n",
       "    }\n",
       "</style>\n",
       "<table border=\"1\" class=\"dataframe\">\n",
       "  <thead>\n",
       "    <tr style=\"text-align: right;\">\n",
       "      <th></th>\n",
       "      <th>max(to_date)</th>\n",
       "    </tr>\n",
       "  </thead>\n",
       "  <tbody>\n",
       "    <tr>\n",
       "      <th>0</th>\n",
       "      <td>9999-01-01</td>\n",
       "    </tr>\n",
       "  </tbody>\n",
       "</table>\n",
       "</div>"
      ],
      "text/plain": [
       "  max(to_date)\n",
       "0   9999-01-01"
      ]
     },
     "execution_count": 24,
     "metadata": {},
     "output_type": "execute_result"
    }
   ],
   "source": [
    "pd.read_sql('''\n",
    "SELECT max(to_date)\n",
    "from employees.titles;\n",
    "''', url)"
   ]
  },
  {
   "cell_type": "code",
   "execution_count": 39,
   "id": "588d9905-456d-409f-8759-9975e6e1cf44",
   "metadata": {
    "tags": []
   },
   "outputs": [
    {
     "data": {
      "text/plain": [
       "datetime.date(9999, 1, 1)"
      ]
     },
     "execution_count": 39,
     "metadata": {},
     "output_type": "execute_result"
    }
   ],
   "source": [
    "titles.to_date.max()"
   ]
  },
  {
   "cell_type": "markdown",
   "id": "cbb69603-537d-4434-aa86-c7c6fb6b3a7d",
   "metadata": {},
   "source": [
    "# Part 2"
   ]
  },
  {
   "cell_type": "markdown",
   "id": "043ab1a1-2962-4860-ab57-6cc5ad6aeba2",
   "metadata": {},
   "source": [
    "# Part 3"
   ]
  },
  {
   "cell_type": "code",
   "execution_count": null,
   "id": "e0fff63e-3cf4-4902-b0d1-f889c0ce7a3d",
   "metadata": {},
   "outputs": [],
   "source": []
  }
 ],
 "metadata": {
  "kernelspec": {
   "display_name": "Python 3 (ipykernel)",
   "language": "python",
   "name": "python3"
  },
  "language_info": {
   "codemirror_mode": {
    "name": "ipython",
    "version": 3
   },
   "file_extension": ".py",
   "mimetype": "text/x-python",
   "name": "python",
   "nbconvert_exporter": "python",
   "pygments_lexer": "ipython3",
   "version": "3.11.5"
  }
 },
 "nbformat": 4,
 "nbformat_minor": 5
}
