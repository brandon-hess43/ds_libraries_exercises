{
 "cells": [
  {
   "cell_type": "markdown",
   "id": "28005eff-dca2-4e0d-bcd4-4ffc2fa79782",
   "metadata": {
    "jp-MarkdownHeadingCollapsed": true,
    "tags": []
   },
   "source": [
    "# Part 1"
   ]
  },
  {
   "cell_type": "markdown",
   "id": "c9c879fa-8961-4c8c-9d07-e820a9202219",
   "metadata": {},
   "source": [
    "In your ds-libraries-exercises repo, make a file named pandas_series.py or pandas_series.ipynb for the following exercises.\n",
    "\n",
    "Use pandas to create a Series named fruits from the following list:\n",
    "\n",
    "    [\"kiwi\", \"mango\", \"strawberry\", \"pineapple\", \"gala apple\", \"honeycrisp apple\", \"tomato\", \"watermelon\", \"honeydew\", \"kiwi\", \"kiwi\", \"kiwi\", \"mango\", \"blueberry\", \"blackberry\", \"gooseberry\", \"papaya\"]\n",
    "\n",
    "Use Series attributes and methods to explore your fruits Series."
   ]
  },
  {
   "cell_type": "markdown",
   "id": "1580a692-b94e-44c0-8125-1e287228dee7",
   "metadata": {
    "tags": []
   },
   "source": [
    "### Determine the number of elements in fruits."
   ]
  },
  {
   "cell_type": "code",
   "execution_count": 194,
   "id": "55c4451f-2b69-49fc-8462-f4d3c6aa4bbc",
   "metadata": {
    "tags": []
   },
   "outputs": [],
   "source": [
    "import pandas as pd"
   ]
  },
  {
   "cell_type": "code",
   "execution_count": 195,
   "id": "fd1db454-f278-4786-bb76-06421ee1dd6a",
   "metadata": {
    "tags": []
   },
   "outputs": [],
   "source": [
    "fruit_list = [\"kiwi\", \"mango\", \"strawberry\", \"pineapple\", \"gala apple\", \"honeycrisp apple\", \"tomato\", \"watermelon\", \"honeydew\", \"kiwi\", \"kiwi\", \"kiwi\", \"mango\", \"blueberry\", \"blackberry\", \"gooseberry\", \"papaya\"]"
   ]
  },
  {
   "cell_type": "code",
   "execution_count": 363,
   "id": "6fbe6278-53e0-4c59-a42d-f29ad02fa261",
   "metadata": {
    "tags": []
   },
   "outputs": [],
   "source": [
    "fruits = pd.Series(fruit_list)\n"
   ]
  },
  {
   "cell_type": "markdown",
   "id": "b3b9e4ec-28ef-41aa-93ca-e91cc9fc45a5",
   "metadata": {},
   "source": [
    "### Output only the index from fruits."
   ]
  },
  {
   "cell_type": "code",
   "execution_count": 364,
   "id": "b90af572-da87-4324-83b1-096d6a78a492",
   "metadata": {
    "tags": []
   },
   "outputs": [
    {
     "data": {
      "text/plain": [
       "0                 kiwi\n",
       "1                mango\n",
       "2           strawberry\n",
       "3            pineapple\n",
       "4           gala apple\n",
       "5     honeycrisp apple\n",
       "6               tomato\n",
       "7           watermelon\n",
       "8             honeydew\n",
       "9                 kiwi\n",
       "10                kiwi\n",
       "11                kiwi\n",
       "12               mango\n",
       "13           blueberry\n",
       "14          blackberry\n",
       "15          gooseberry\n",
       "16              papaya\n",
       "dtype: object"
      ]
     },
     "execution_count": 364,
     "metadata": {},
     "output_type": "execute_result"
    }
   ],
   "source": [
    "fruits"
   ]
  },
  {
   "cell_type": "markdown",
   "id": "49d3575e-6b79-4853-8403-4cb2de8c21ad",
   "metadata": {},
   "source": [
    "### Output only the values from fruits."
   ]
  },
  {
   "cell_type": "code",
   "execution_count": 365,
   "id": "e044bbf1-4605-4082-a54d-541ea662d378",
   "metadata": {
    "tags": []
   },
   "outputs": [
    {
     "data": {
      "text/plain": [
       "kiwi                4\n",
       "mango               2\n",
       "strawberry          1\n",
       "pineapple           1\n",
       "gala apple          1\n",
       "honeycrisp apple    1\n",
       "tomato              1\n",
       "watermelon          1\n",
       "honeydew            1\n",
       "blueberry           1\n",
       "blackberry          1\n",
       "gooseberry          1\n",
       "papaya              1\n",
       "Name: count, dtype: int64"
      ]
     },
     "execution_count": 365,
     "metadata": {},
     "output_type": "execute_result"
    }
   ],
   "source": [
    "fruits.value_counts()"
   ]
  },
  {
   "cell_type": "code",
   "execution_count": 366,
   "id": "95f411f7-4aca-423d-b90a-f7495d6bbfb2",
   "metadata": {
    "tags": []
   },
   "outputs": [
    {
     "data": {
      "text/plain": [
       "17"
      ]
     },
     "execution_count": 366,
     "metadata": {},
     "output_type": "execute_result"
    }
   ],
   "source": [
    "fruits.size"
   ]
  },
  {
   "cell_type": "code",
   "execution_count": 367,
   "id": "f15248d2-bd96-41ef-8dd5-09895f9e78ab",
   "metadata": {
    "tags": []
   },
   "outputs": [
    {
     "data": {
      "text/plain": [
       "(17,)"
      ]
     },
     "execution_count": 367,
     "metadata": {},
     "output_type": "execute_result"
    }
   ],
   "source": [
    "fruits.shape"
   ]
  },
  {
   "cell_type": "code",
   "execution_count": 369,
   "id": "6f2f9a9c-faeb-40d0-9e5c-5f439b79751e",
   "metadata": {
    "tags": []
   },
   "outputs": [
    {
     "data": {
      "text/plain": [
       "RangeIndex(start=0, stop=17, step=1)"
      ]
     },
     "execution_count": 369,
     "metadata": {},
     "output_type": "execute_result"
    }
   ],
   "source": [
    "fruits.index"
   ]
  },
  {
   "cell_type": "code",
   "execution_count": 344,
   "id": "a3f2ded7-acdc-4d7c-b56a-1d854813d1c4",
   "metadata": {
    "tags": []
   },
   "outputs": [
    {
     "data": {
      "text/plain": [
       "[0, 1, 2, 3, 4, 5, 6, 7, 8, 9, 10, 11, 12, 13, 14, 15, 16]"
      ]
     },
     "execution_count": 344,
     "metadata": {},
     "output_type": "execute_result"
    }
   ],
   "source": [
    "list(fruits.index)"
   ]
  },
  {
   "cell_type": "code",
   "execution_count": 348,
   "id": "6dbc0e38-c640-436a-8047-6b986dafaad3",
   "metadata": {
    "tags": []
   },
   "outputs": [
    {
     "data": {
      "text/plain": [
       "dtype('O')"
      ]
     },
     "execution_count": 348,
     "metadata": {},
     "output_type": "execute_result"
    }
   ],
   "source": [
    "fruits.dtype  # O = string (refer to documentation)"
   ]
  },
  {
   "cell_type": "markdown",
   "id": "5aa49642-d24e-4778-860e-98cdf9ad15a4",
   "metadata": {},
   "source": [
    "### Confirm the data type of the values in fruits."
   ]
  },
  {
   "cell_type": "code",
   "execution_count": 211,
   "id": "8c877d22-bb19-4fa7-921e-2fb6c1f09e0b",
   "metadata": {
    "tags": []
   },
   "outputs": [
    {
     "data": {
      "text/plain": [
       "numpy.ndarray"
      ]
     },
     "execution_count": 211,
     "metadata": {},
     "output_type": "execute_result"
    }
   ],
   "source": [
    "type(fruits.values)"
   ]
  },
  {
   "cell_type": "code",
   "execution_count": 212,
   "id": "46e4d431-37d3-4d3e-8f43-f437855a363b",
   "metadata": {
    "tags": []
   },
   "outputs": [
    {
     "data": {
      "text/plain": [
       "array(['kiwi', 'mango', 'strawberry', 'pineapple', 'gala apple',\n",
       "       'honeycrisp apple', 'tomato', 'watermelon', 'honeydew', 'kiwi',\n",
       "       'kiwi', 'kiwi', 'mango', 'blueberry', 'blackberry', 'gooseberry',\n",
       "       'papaya'], dtype=object)"
      ]
     },
     "execution_count": 212,
     "metadata": {},
     "output_type": "execute_result"
    }
   ],
   "source": [
    "fruits.values"
   ]
  },
  {
   "cell_type": "markdown",
   "id": "cb3df50e-7edb-46a9-a3de-b595c9b537b7",
   "metadata": {},
   "source": [
    "### Output only the first five values from fruits. "
   ]
  },
  {
   "cell_type": "markdown",
   "id": "7a9823ef-63c8-40d7-93a9-fc941cb9167c",
   "metadata": {
    "tags": []
   },
   "source": [
    "### Output the last three values. Output two random values from fruits."
   ]
  },
  {
   "cell_type": "code",
   "execution_count": 352,
   "id": "c8061471-a432-4bf6-9038-ba0f03c32971",
   "metadata": {
    "tags": []
   },
   "outputs": [
    {
     "data": {
      "text/plain": [
       "14    blackberry\n",
       "15    gooseberry\n",
       "16        papaya\n",
       "dtype: object"
      ]
     },
     "execution_count": 352,
     "metadata": {},
     "output_type": "execute_result"
    }
   ],
   "source": [
    "fruits.tail(3)"
   ]
  },
  {
   "cell_type": "markdown",
   "id": "736cdd6d-fbcc-4165-91c5-8501ce80cc0e",
   "metadata": {},
   "source": [
    "### Run the .describe() on fruits to see what information it returns when called on a Series with string values.\n"
   ]
  },
  {
   "cell_type": "code",
   "execution_count": 214,
   "id": "571bd52a-515d-4a8f-b60f-c99abfbf7568",
   "metadata": {
    "tags": []
   },
   "outputs": [
    {
     "data": {
      "text/plain": [
       "count       17\n",
       "unique      13\n",
       "top       kiwi\n",
       "freq         4\n",
       "dtype: object"
      ]
     },
     "execution_count": 214,
     "metadata": {},
     "output_type": "execute_result"
    }
   ],
   "source": [
    "fruits.describe()"
   ]
  },
  {
   "cell_type": "markdown",
   "id": "f3675e3d-4bc3-4d90-a73a-eb294e693e3c",
   "metadata": {},
   "source": [
    "### Run the code necessary to produce only the unique string values from fruits.\n"
   ]
  },
  {
   "cell_type": "code",
   "execution_count": 215,
   "id": "146c439d-f035-44d9-88ed-c82b5e9b9080",
   "metadata": {
    "tags": []
   },
   "outputs": [
    {
     "data": {
      "text/plain": [
       "array(['kiwi', 'mango', 'strawberry', 'pineapple', 'gala apple',\n",
       "       'honeycrisp apple', 'tomato', 'watermelon', 'honeydew',\n",
       "       'blueberry', 'blackberry', 'gooseberry', 'papaya'], dtype=object)"
      ]
     },
     "execution_count": 215,
     "metadata": {},
     "output_type": "execute_result"
    }
   ],
   "source": [
    "fruits.unique()"
   ]
  },
  {
   "cell_type": "markdown",
   "id": "92ae1e2a-ed4c-4cdd-a76f-4c0e778e6d2a",
   "metadata": {},
   "source": [
    "### Determine how many times each string value occurs in fruits."
   ]
  },
  {
   "cell_type": "code",
   "execution_count": 216,
   "id": "4d1b1383-ba56-47cd-8be8-62225d2268bd",
   "metadata": {
    "tags": []
   },
   "outputs": [
    {
     "data": {
      "text/plain": [
       "kiwi                4\n",
       "mango               2\n",
       "strawberry          1\n",
       "pineapple           1\n",
       "gala apple          1\n",
       "honeycrisp apple    1\n",
       "tomato              1\n",
       "watermelon          1\n",
       "honeydew            1\n",
       "blueberry           1\n",
       "blackberry          1\n",
       "gooseberry          1\n",
       "papaya              1\n",
       "Name: count, dtype: int64"
      ]
     },
     "execution_count": 216,
     "metadata": {},
     "output_type": "execute_result"
    }
   ],
   "source": [
    "fruits.value_counts()"
   ]
  },
  {
   "cell_type": "markdown",
   "id": "67375682-3102-499a-a352-010d7afc10fd",
   "metadata": {},
   "source": [
    "### Determine the string value that occurs most frequently in fruits.\n"
   ]
  },
  {
   "cell_type": "code",
   "execution_count": 353,
   "id": "aa0dee3f-ee05-47fb-8ca2-555bcb9345e5",
   "metadata": {
    "tags": []
   },
   "outputs": [
    {
     "data": {
      "text/plain": [
       "kiwi    4\n",
       "Name: count, dtype: int64"
      ]
     },
     "execution_count": 353,
     "metadata": {},
     "output_type": "execute_result"
    }
   ],
   "source": [
    "fruits.value_counts().head(1)"
   ]
  },
  {
   "cell_type": "code",
   "execution_count": 355,
   "id": "7dce01ad-5e9e-4ffa-8cb6-d39c5faf85ce",
   "metadata": {
    "tags": []
   },
   "outputs": [
    {
     "data": {
      "text/plain": [
       "0    kiwi\n",
       "dtype: object"
      ]
     },
     "execution_count": 355,
     "metadata": {},
     "output_type": "execute_result"
    }
   ],
   "source": [
    "fruits.mode()"
   ]
  },
  {
   "cell_type": "code",
   "execution_count": 358,
   "id": "7f0da774-f936-4e17-b3ce-7f96a7fd62c0",
   "metadata": {
    "tags": []
   },
   "outputs": [
    {
     "data": {
      "text/plain": [
       "count       17\n",
       "unique      13\n",
       "top       kiwi\n",
       "freq         4\n",
       "dtype: object"
      ]
     },
     "execution_count": 358,
     "metadata": {},
     "output_type": "execute_result"
    }
   ],
   "source": [
    "fruits.describe()"
   ]
  },
  {
   "cell_type": "markdown",
   "id": "7e78a8a2-7d1b-49e9-aeed-ed3f3f6dcc93",
   "metadata": {},
   "source": [
    "### Determine the string value that occurs least frequently in fruits.\n"
   ]
  },
  {
   "cell_type": "code",
   "execution_count": 362,
   "id": "07262ad1-413d-44bc-8d8e-818611ca8d70",
   "metadata": {
    "tags": []
   },
   "outputs": [
    {
     "data": {
      "text/plain": [
       "watermelon    1\n",
       "Name: count, dtype: int64"
      ]
     },
     "execution_count": 362,
     "metadata": {},
     "output_type": "execute_result"
    }
   ],
   "source": [
    "fruits.sort_values().value_counts().tail(1)\n"
   ]
  },
  {
   "cell_type": "code",
   "execution_count": 361,
   "id": "290f0ab3-7aa0-4b33-9fe9-4100efc3b1b5",
   "metadata": {
    "tags": []
   },
   "outputs": [
    {
     "data": {
      "text/plain": [
       "watermelon    1\n",
       "Name: count, dtype: int64"
      ]
     },
     "execution_count": 361,
     "metadata": {},
     "output_type": "execute_result"
    }
   ],
   "source": [
    "fruits.sort_values().value_counts().nsmallest(n=1,keep='last')\n"
   ]
  },
  {
   "cell_type": "markdown",
   "id": "2b7b39f2-4cdc-4ec4-9f50-c8921475fea3",
   "metadata": {
    "jp-MarkdownHeadingCollapsed": true,
    "tags": []
   },
   "source": [
    "# Part 2"
   ]
  },
  {
   "cell_type": "markdown",
   "id": "304565ec-5fe5-4906-8e7b-d3bc334ccd2b",
   "metadata": {
    "tags": []
   },
   "source": [
    "Explore more attributes and methods while you continue to work with the fruits Series."
   ]
  },
  {
   "cell_type": "markdown",
   "id": "4f04f357-d0ce-4962-ae31-4df11512704a",
   "metadata": {},
   "source": [
    "### 1. Capitalize all the string values in fruits."
   ]
  },
  {
   "cell_type": "code",
   "execution_count": 61,
   "id": "d8444e66-b2e6-452b-8fd9-409de86d9d84",
   "metadata": {
    "tags": []
   },
   "outputs": [
    {
     "data": {
      "text/plain": [
       "0                 KIWI\n",
       "1                MANGO\n",
       "2           STRAWBERRY\n",
       "3            PINEAPPLE\n",
       "4           GALA APPLE\n",
       "5     HONEYCRISP APPLE\n",
       "6               TOMATO\n",
       "7           WATERMELON\n",
       "8             HONEYDEW\n",
       "9                 KIWI\n",
       "10                KIWI\n",
       "11                KIWI\n",
       "12               MANGO\n",
       "13           BLUEBERRY\n",
       "14          BLACKBERRY\n",
       "15          GOOSEBERRY\n",
       "16              PAPAYA\n",
       "dtype: object"
      ]
     },
     "execution_count": 61,
     "metadata": {},
     "output_type": "execute_result"
    }
   ],
   "source": [
    "fruits.str.upper()"
   ]
  },
  {
   "cell_type": "markdown",
   "id": "52704229-4ac4-4da5-a19c-58df6fe956fb",
   "metadata": {},
   "source": [
    "### 2. Count the letter \"a\" in all the string values (use string vectorization)."
   ]
  },
  {
   "cell_type": "code",
   "execution_count": 370,
   "id": "cc9146fd-838e-4524-b7c5-f0c203ad6f53",
   "metadata": {
    "tags": []
   },
   "outputs": [
    {
     "data": {
      "text/plain": [
       "14"
      ]
     },
     "execution_count": 370,
     "metadata": {},
     "output_type": "execute_result"
    }
   ],
   "source": [
    "fruits.str.count('a').sum()"
   ]
  },
  {
   "cell_type": "markdown",
   "id": "3b88692c-6c1c-4fba-a2db-6842ed752ce4",
   "metadata": {},
   "source": [
    "### 3. Output the number of vowels in each and every string value."
   ]
  },
  {
   "cell_type": "code",
   "execution_count": 81,
   "id": "302b7312-82a7-4f23-bce2-b8841ee16b74",
   "metadata": {
    "tags": []
   },
   "outputs": [
    {
     "data": {
      "text/plain": [
       "0     2\n",
       "1     2\n",
       "2     2\n",
       "3     4\n",
       "4     4\n",
       "5     5\n",
       "6     3\n",
       "7     4\n",
       "8     3\n",
       "9     2\n",
       "10    2\n",
       "11    2\n",
       "12    2\n",
       "13    3\n",
       "14    2\n",
       "15    4\n",
       "16    3\n",
       "dtype: int64"
      ]
     },
     "execution_count": 81,
     "metadata": {},
     "output_type": "execute_result"
    }
   ],
   "source": [
    "fruits.str.count('[aeiou]')"
   ]
  },
  {
   "cell_type": "markdown",
   "id": "eacf28c1-8b28-454c-9348-5145d682d350",
   "metadata": {},
   "source": [
    "### 4. Write the code to get the longest string value from fruits."
   ]
  },
  {
   "cell_type": "code",
   "execution_count": 137,
   "id": "923fed1b-8cd6-452a-9f8a-b5c52e4ab832",
   "metadata": {
    "tags": []
   },
   "outputs": [
    {
     "data": {
      "text/plain": [
       "0      4\n",
       "1      5\n",
       "2     10\n",
       "3      9\n",
       "4     10\n",
       "5     16\n",
       "6      6\n",
       "7     10\n",
       "8      8\n",
       "9      4\n",
       "10     4\n",
       "11     4\n",
       "12     5\n",
       "13     9\n",
       "14    10\n",
       "15    10\n",
       "16     6\n",
       "dtype: int64"
      ]
     },
     "execution_count": 137,
     "metadata": {},
     "output_type": "execute_result"
    }
   ],
   "source": [
    "fruits.str.len()"
   ]
  },
  {
   "cell_type": "code",
   "execution_count": 371,
   "id": "f50c19ae-f977-4721-93fb-8389028642eb",
   "metadata": {
    "tags": []
   },
   "outputs": [
    {
     "data": {
      "text/plain": [
       "5    honeycrisp apple\n",
       "dtype: object"
      ]
     },
     "execution_count": 371,
     "metadata": {},
     "output_type": "execute_result"
    }
   ],
   "source": [
    "fruits[fruits.str.len() == max(fruits.str.len())]"
   ]
  },
  {
   "cell_type": "code",
   "execution_count": 373,
   "id": "aac67f85-66bc-4728-bea0-6d9e5c8751df",
   "metadata": {
    "tags": []
   },
   "outputs": [
    {
     "data": {
      "text/plain": [
       "'honeycrisp apple'"
      ]
     },
     "execution_count": 373,
     "metadata": {},
     "output_type": "execute_result"
    }
   ],
   "source": [
    "max(fruits,key=len)"
   ]
  },
  {
   "cell_type": "markdown",
   "id": "d7b0828d-505e-41e2-a5cf-365754c29e73",
   "metadata": {},
   "source": [
    "### 5. Write the code to get the string values with 5 or more letters in the name."
   ]
  },
  {
   "cell_type": "code",
   "execution_count": 138,
   "id": "5cbee45b-3100-4efa-93cf-9d36830ccdb5",
   "metadata": {
    "tags": []
   },
   "outputs": [
    {
     "data": {
      "text/plain": [
       "2           strawberry\n",
       "3            pineapple\n",
       "4           gala apple\n",
       "5     honeycrisp apple\n",
       "6               tomato\n",
       "7           watermelon\n",
       "8             honeydew\n",
       "13           blueberry\n",
       "14          blackberry\n",
       "15          gooseberry\n",
       "16              papaya\n",
       "dtype: object"
      ]
     },
     "execution_count": 138,
     "metadata": {},
     "output_type": "execute_result"
    }
   ],
   "source": [
    "fruits[fruits.str.len() > 5]"
   ]
  },
  {
   "cell_type": "code",
   "execution_count": 374,
   "id": "b31910e2-49c0-49e4-be90-1c75c1a428a9",
   "metadata": {
    "tags": []
   },
   "outputs": [
    {
     "data": {
      "text/plain": [
       "array(['strawberry', 'pineapple', 'gala apple', 'honeycrisp apple',\n",
       "       'tomato', 'watermelon', 'honeydew', 'blueberry', 'blackberry',\n",
       "       'gooseberry', 'papaya'], dtype=object)"
      ]
     },
     "execution_count": 374,
     "metadata": {},
     "output_type": "execute_result"
    }
   ],
   "source": [
    "fruits[fruits.str.len() > 5].values"
   ]
  },
  {
   "cell_type": "markdown",
   "id": "30b09b88-42e3-4abe-8f75-f4179a1fb25a",
   "metadata": {},
   "source": [
    "### 6. Find the fruit(s) containing the letter \"o\" two or more times."
   ]
  },
  {
   "cell_type": "code",
   "execution_count": 144,
   "id": "4288a608-397e-4f97-a17f-59ebfff4443a",
   "metadata": {
    "tags": []
   },
   "outputs": [
    {
     "data": {
      "text/plain": [
       "6         tomato\n",
       "15    gooseberry\n",
       "dtype: object"
      ]
     },
     "execution_count": 144,
     "metadata": {},
     "output_type": "execute_result"
    }
   ],
   "source": [
    "fruits[fruits.str.count('o') >= 2]"
   ]
  },
  {
   "cell_type": "markdown",
   "id": "4d4867e3-8adf-4178-939c-a184d3ee652c",
   "metadata": {},
   "source": [
    "### 7. Write the code to get only the string values containing the substring \"berry\"."
   ]
  },
  {
   "cell_type": "code",
   "execution_count": 154,
   "id": "17738c53-4d3f-4dcc-b0eb-5eb95a55d40c",
   "metadata": {
    "tags": []
   },
   "outputs": [
    {
     "data": {
      "text/plain": [
       "2     strawberry\n",
       "13     blueberry\n",
       "14    blackberry\n",
       "15    gooseberry\n",
       "dtype: object"
      ]
     },
     "execution_count": 154,
     "metadata": {},
     "output_type": "execute_result"
    }
   ],
   "source": [
    "fruits[fruits.str.contains('berry')]"
   ]
  },
  {
   "cell_type": "markdown",
   "id": "d8fb42b1-a11f-4ee8-b1b4-02eea3b49be0",
   "metadata": {},
   "source": [
    "### 8. Write the code to get only the string values containing the substring \"apple\"."
   ]
  },
  {
   "cell_type": "code",
   "execution_count": 155,
   "id": "cec0a3eb-cdfa-4417-88fe-9b8e967b7b86",
   "metadata": {
    "tags": []
   },
   "outputs": [
    {
     "data": {
      "text/plain": [
       "3           pineapple\n",
       "4          gala apple\n",
       "5    honeycrisp apple\n",
       "dtype: object"
      ]
     },
     "execution_count": 155,
     "metadata": {},
     "output_type": "execute_result"
    }
   ],
   "source": [
    "fruits[fruits.str.contains('apple')]"
   ]
  },
  {
   "cell_type": "markdown",
   "id": "3e0188dd-f617-435a-91e1-a475731621f9",
   "metadata": {},
   "source": [
    "### 9. Which string value contains the most vowels?"
   ]
  },
  {
   "cell_type": "code",
   "execution_count": 164,
   "id": "37fb102f-e934-40eb-9e0a-bd0d644832e7",
   "metadata": {
    "tags": []
   },
   "outputs": [
    {
     "data": {
      "text/plain": [
       "'honeycrisp apple'"
      ]
     },
     "execution_count": 164,
     "metadata": {},
     "output_type": "execute_result"
    }
   ],
   "source": [
    "fruits[max(fruits.str.count('[aeiou]'))]"
   ]
  },
  {
   "cell_type": "markdown",
   "id": "33e6b52a-67e0-4d29-89f6-119cef3f224a",
   "metadata": {
    "tags": []
   },
   "source": [
    "# Part 3"
   ]
  },
  {
   "cell_type": "markdown",
   "id": "a6c87f7d-1843-472f-ba49-9aa90681e6bf",
   "metadata": {},
   "source": [
    "### Use pandas to create a Series named letters from the following string. The easiest way to make this string into a Pandas series is to use list to convert each individual letter into a single string on a basic Python list.\n",
    "\n",
    "'hnvidduckkqxwymbimkccexbkmqygkxoyndmcxnwqarhyffsjpsrabtjzsypmzadfavyrnndndvswreauxovncxtwzpwejilzjrmmbbgbyxvjtewqthafnbkqplarokkyydtubbmnexoypulzwfhqvckdpqtpoppzqrmcvhhpwgjwupgzhiofohawytlsiyecuproguy'"
   ]
  },
  {
   "cell_type": "code",
   "execution_count": 172,
   "id": "faab0422-5bdd-4ff4-aefd-c8cc5186b334",
   "metadata": {
    "tags": []
   },
   "outputs": [
    {
     "data": {
      "text/plain": [
       "0      h\n",
       "1      n\n",
       "2      v\n",
       "3      i\n",
       "4      d\n",
       "      ..\n",
       "195    r\n",
       "196    o\n",
       "197    g\n",
       "198    u\n",
       "199    y\n",
       "Length: 200, dtype: object"
      ]
     },
     "execution_count": 172,
     "metadata": {},
     "output_type": "execute_result"
    }
   ],
   "source": [
    "letter_string = 'hnvidduckkqxwymbimkccexbkmqygkxoyndmcxnwqarhyffsjpsrabtjzsypmzadfavyrnndndvswreauxovncxtwzpwejilzjrmmbbgbyxvjtewqthafnbkqplarokkyydtubbmnexoypulzwfhqvckdpqtpoppzqrmcvhhpwgjwupgzhiofohawytlsiyecuproguy'\n",
    "letter_list = []\n",
    "for letter in letter_string:\n",
    "    letter_list.append(letter)\n",
    "letter_list  \n",
    "\n",
    "letters = pd.Series(letter_list)\n",
    "letters"
   ]
  },
  {
   "cell_type": "markdown",
   "id": "f326a0d8-1251-4476-ae1c-34167a15143a",
   "metadata": {
    "tags": []
   },
   "source": [
    "### 1.Which letter occurs the most frequently in the letters Series?"
   ]
  },
  {
   "cell_type": "code",
   "execution_count": 174,
   "id": "86c36b42-1029-46bf-9035-d248bda5aa85",
   "metadata": {
    "tags": []
   },
   "outputs": [
    {
     "data": {
      "text/plain": [
       "200"
      ]
     },
     "execution_count": 174,
     "metadata": {},
     "output_type": "execute_result"
    }
   ],
   "source": [
    "letters.count()"
   ]
  },
  {
   "cell_type": "code",
   "execution_count": 181,
   "id": "f791a99d-0cc7-4681-ac25-c15568d7998f",
   "metadata": {
    "tags": []
   },
   "outputs": [
    {
     "data": {
      "text/plain": [
       "count     200\n",
       "unique     26\n",
       "top         y\n",
       "freq       13\n",
       "dtype: object"
      ]
     },
     "execution_count": 181,
     "metadata": {},
     "output_type": "execute_result"
    }
   ],
   "source": [
    "letters.describe()"
   ]
  },
  {
   "cell_type": "code",
   "execution_count": 192,
   "id": "46b35eda-a728-4a3a-916a-485da217b967",
   "metadata": {
    "tags": []
   },
   "outputs": [
    {
     "data": {
      "text/plain": [
       "array(['h', 'n', 'v', 'i', 'd', 'u', 'c', 'k', 'q', 'x', 'w', 'y', 'm',\n",
       "       'b', 'e', 'g', 'o', 'a', 'r', 'f', 's', 'j', 'p', 't', 'z', 'l'],\n",
       "      dtype=object)"
      ]
     },
     "execution_count": 192,
     "metadata": {},
     "output_type": "execute_result"
    }
   ],
   "source": [
    "letters.unique()"
   ]
  },
  {
   "cell_type": "code",
   "execution_count": 222,
   "id": "21a0351e-0a5c-4ded-9fe2-62278537d306",
   "metadata": {
    "tags": []
   },
   "outputs": [
    {
     "data": {
      "text/plain": [
       "y    13\n",
       "p    12\n",
       "w    10\n",
       "b     9\n",
       "n     9\n",
       "k     9\n",
       "m     9\n",
       "r     8\n",
       "a     8\n",
       "o     8\n",
       "h     8\n",
       "x     8\n",
       "q     8\n",
       "c     8\n",
       "d     8\n",
       "u     7\n",
       "v     7\n",
       "t     7\n",
       "z     7\n",
       "e     6\n",
       "f     6\n",
       "j     6\n",
       "g     5\n",
       "i     5\n",
       "s     5\n",
       "l     4\n",
       "Name: count, dtype: int64"
      ]
     },
     "execution_count": 222,
     "metadata": {},
     "output_type": "execute_result"
    }
   ],
   "source": [
    "letters.value_counts()"
   ]
  },
  {
   "cell_type": "code",
   "execution_count": 191,
   "id": "e15ef7a4-ac4f-40e4-98f7-f2ea9b54cffa",
   "metadata": {
    "tags": []
   },
   "outputs": [
    {
     "data": {
      "text/plain": [
       "'y'"
      ]
     },
     "execution_count": 191,
     "metadata": {},
     "output_type": "execute_result"
    }
   ],
   "source": [
    "letters[max(letters.value_counts())]"
   ]
  },
  {
   "cell_type": "code",
   "execution_count": 378,
   "id": "892f011a-f49c-4b0b-8386-f552e33f6207",
   "metadata": {
    "tags": []
   },
   "outputs": [
    {
     "data": {
      "text/plain": [
       "'y'"
      ]
     },
     "execution_count": 378,
     "metadata": {},
     "output_type": "execute_result"
    }
   ],
   "source": [
    "letters.value_counts().idxmax()"
   ]
  },
  {
   "cell_type": "markdown",
   "id": "320b8c2b-afbe-4dab-b1bc-01b5c71b7961",
   "metadata": {},
   "source": [
    "### 2. Which letter occurs the Least frequently?"
   ]
  },
  {
   "cell_type": "code",
   "execution_count": 250,
   "id": "6d7222d3-6503-44be-8a3f-f85bb3926800",
   "metadata": {
    "tags": []
   },
   "outputs": [
    {
     "data": {
      "text/plain": [
       "4"
      ]
     },
     "execution_count": 250,
     "metadata": {},
     "output_type": "execute_result"
    }
   ],
   "source": [
    "min(letters.value_counts())"
   ]
  },
  {
   "cell_type": "code",
   "execution_count": 379,
   "id": "56baf8ea-eb7a-470f-a313-23506c87ae3e",
   "metadata": {
    "tags": []
   },
   "outputs": [
    {
     "data": {
      "text/plain": [
       "'l'"
      ]
     },
     "execution_count": 379,
     "metadata": {},
     "output_type": "execute_result"
    }
   ],
   "source": [
    "letters.value_counts().idxmin()"
   ]
  },
  {
   "cell_type": "markdown",
   "id": "1d36ae3f-017a-4fbc-878e-db98a4383a4a",
   "metadata": {},
   "source": [
    "### 3. How many vowels are in the Series?"
   ]
  },
  {
   "cell_type": "code",
   "execution_count": 257,
   "id": "fad874f0-4f5c-40c2-9a57-2bf6c176c657",
   "metadata": {
    "tags": []
   },
   "outputs": [
    {
     "data": {
      "text/plain": [
       "['a', 'e', 'i', 'o', 'u']"
      ]
     },
     "execution_count": 257,
     "metadata": {},
     "output_type": "execute_result"
    }
   ],
   "source": [
    "vowels"
   ]
  },
  {
   "cell_type": "code",
   "execution_count": 287,
   "id": "e4631738-ef1c-4dc2-90ae-2f05402f6a04",
   "metadata": {
    "tags": []
   },
   "outputs": [
    {
     "data": {
      "text/plain": [
       "0      False\n",
       "1      False\n",
       "2      False\n",
       "3       True\n",
       "4      False\n",
       "       ...  \n",
       "195    False\n",
       "196     True\n",
       "197    False\n",
       "198     True\n",
       "199    False\n",
       "Length: 200, dtype: bool"
      ]
     },
     "execution_count": 287,
     "metadata": {},
     "output_type": "execute_result"
    }
   ],
   "source": [
    "\n",
    "letters.isin(vowels)"
   ]
  },
  {
   "cell_type": "code",
   "execution_count": 280,
   "id": "7b446dfc-bbb9-4ef9-8956-b8780602310f",
   "metadata": {
    "tags": []
   },
   "outputs": [
    {
     "data": {
      "text/plain": [
       "False    166\n",
       "True      34\n",
       "Name: count, dtype: int64"
      ]
     },
     "execution_count": 280,
     "metadata": {},
     "output_type": "execute_result"
    }
   ],
   "source": [
    "\n",
    "letters.isin(vowels).value_counts()"
   ]
  },
  {
   "cell_type": "code",
   "execution_count": 286,
   "id": "9f7c5ea3-c7df-4dfd-bdf3-794ce515ea50",
   "metadata": {
    "tags": []
   },
   "outputs": [
    {
     "data": {
      "text/plain": [
       "34"
      ]
     },
     "execution_count": 286,
     "metadata": {},
     "output_type": "execute_result"
    }
   ],
   "source": [
    "\n",
    "len(letters[letters.isin(vowels) == True])"
   ]
  },
  {
   "cell_type": "markdown",
   "id": "da779785-41f1-4b53-909d-48cf2924256e",
   "metadata": {},
   "source": [
    "### 4. How many consonants are in the Series?"
   ]
  },
  {
   "cell_type": "code",
   "execution_count": 288,
   "id": "f995df4d-3df1-4869-8acc-8c2134e6a615",
   "metadata": {
    "tags": []
   },
   "outputs": [
    {
     "data": {
      "text/plain": [
       "166"
      ]
     },
     "execution_count": 288,
     "metadata": {},
     "output_type": "execute_result"
    }
   ],
   "source": [
    "len(letters[letters.isin(vowels) == False])"
   ]
  },
  {
   "cell_type": "code",
   "execution_count": 250,
   "id": "2c023178-e2dc-4eff-9873-578bcd315bf2",
   "metadata": {
    "tags": []
   },
   "outputs": [
    {
     "data": {
      "text/plain": [
       "4"
      ]
     },
     "execution_count": 250,
     "metadata": {},
     "output_type": "execute_result"
    }
   ],
   "source": [
    "min(letters.value_counts())"
   ]
  },
  {
   "cell_type": "markdown",
   "id": "37ac1203-8138-4994-9028-1649821c2c1a",
   "metadata": {},
   "source": [
    "### 5. Create a Series that has all of the same letters but uppercased."
   ]
  },
  {
   "cell_type": "code",
   "execution_count": 289,
   "id": "901203e1-bb9a-47ae-ac71-c139b566425c",
   "metadata": {
    "tags": []
   },
   "outputs": [
    {
     "data": {
      "text/plain": [
       "0      H\n",
       "1      N\n",
       "2      V\n",
       "3      I\n",
       "4      D\n",
       "      ..\n",
       "195    R\n",
       "196    O\n",
       "197    G\n",
       "198    U\n",
       "199    Y\n",
       "Length: 200, dtype: object"
      ]
     },
     "execution_count": 289,
     "metadata": {},
     "output_type": "execute_result"
    }
   ],
   "source": [
    "letters.str.upper()"
   ]
  },
  {
   "cell_type": "markdown",
   "id": "0464d92a-d051-43e9-a77a-2f30958764cf",
   "metadata": {},
   "source": [
    "### 6. Create a bar plot of the frequencies of the 6 most commonly occuring letters."
   ]
  },
  {
   "cell_type": "code",
   "execution_count": 296,
   "id": "c254a911-e630-4665-8b71-317dd2c58144",
   "metadata": {
    "tags": []
   },
   "outputs": [
    {
     "data": {
      "text/plain": [
       "y    13\n",
       "p    12\n",
       "w    10\n",
       "b     9\n",
       "n     9\n",
       "k     9\n",
       "Name: count, dtype: int64"
      ]
     },
     "execution_count": 296,
     "metadata": {},
     "output_type": "execute_result"
    }
   ],
   "source": [
    "letters.value_counts().head(6)"
   ]
  },
  {
   "cell_type": "code",
   "execution_count": 295,
   "id": "45bb877e-4ead-4c40-b912-3c7c6919d454",
   "metadata": {
    "tags": []
   },
   "outputs": [
    {
     "data": {
      "text/plain": [
       "<Axes: >"
      ]
     },
     "execution_count": 295,
     "metadata": {},
     "output_type": "execute_result"
    },
    {
     "data": {
      "image/png": "[encoded data removed]",
      "text/plain": [
       "<Figure size 640x480 with 1 Axes>"
      ]
     },
     "metadata": {},
     "output_type": "display_data"
    }
   ],
   "source": [
    "letters.value_counts().head(6).plot.bar()"
   ]
  },
  {
   "cell_type": "markdown",
   "id": "7b2ffb4d-288a-49f7-a428-9fc1a330a975",
   "metadata": {},
   "source": [
    "### Use pandas to create a Series named numbers from the following list:\n",
    "\n",
    "['$796,459.41', '$278.60', '$482,571.67', '$4,503,915.98', '$2,121,418.3', '$1,260,813.3', '$87,231.01', '$1,509,175.45', '$4,138,548.00', '$2,848,913.80', '$594,715.39', '$4,789,988.17', '$4,513,644.5', '$3,191,059.97', '$1,758,712.24', '$4,338,283.54', '$4,738,303.38', '$2,791,759.67', '$769,681.94', '$452,650.23']\n"
   ]
  },
  {
   "cell_type": "code",
   "execution_count": 298,
   "id": "0e583037-1f89-40c3-b07d-91e419c57bfd",
   "metadata": {
    "tags": []
   },
   "outputs": [
    {
     "data": {
      "text/plain": [
       "0       $796,459.41\n",
       "1           $278.60\n",
       "2       $482,571.67\n",
       "3     $4,503,915.98\n",
       "4      $2,121,418.3\n",
       "5      $1,260,813.3\n",
       "6        $87,231.01\n",
       "7     $1,509,175.45\n",
       "8     $4,138,548.00\n",
       "9     $2,848,913.80\n",
       "10      $594,715.39\n",
       "11    $4,789,988.17\n",
       "12     $4,513,644.5\n",
       "13    $3,191,059.97\n",
       "14    $1,758,712.24\n",
       "15    $4,338,283.54\n",
       "16    $4,738,303.38\n",
       "17    $2,791,759.67\n",
       "18      $769,681.94\n",
       "19      $452,650.23\n",
       "dtype: object"
      ]
     },
     "execution_count": 298,
     "metadata": {},
     "output_type": "execute_result"
    }
   ],
   "source": [
    "numbers_list = ['$796,459.41', '$278.60', '$482,571.67', '$4,503,915.98', '$2,121,418.3', '$1,260,813.3', '$87,231.01', '$1,509,175.45', '$4,138,548.00', '$2,848,913.80', '$594,715.39', '$4,789,988.17', '$4,513,644.5', '$3,191,059.97', '$1,758,712.24', '$4,338,283.54', '$4,738,303.38', '$2,791,759.67', '$769,681.94', '$452,650.23']\n",
    "numbers = pd.Series(numbers_list)\n",
    "numbers"
   ]
  },
  {
   "cell_type": "markdown",
   "id": "c7ba3561-68f3-4f24-8e26-155fef03df77",
   "metadata": {},
   "source": [
    "### 1. What is the data type of the numbers Series?"
   ]
  },
  {
   "cell_type": "code",
   "execution_count": 301,
   "id": "1f93f5c5-6288-452c-8178-629410fbed16",
   "metadata": {
    "tags": []
   },
   "outputs": [
    {
     "name": "stdout",
     "output_type": "stream",
     "text": [
      "object\n"
     ]
    }
   ],
   "source": [
    "print(numbers.dtypes)"
   ]
  },
  {
   "cell_type": "markdown",
   "id": "8b4488f2-9876-4c4e-9dbf-6a271b404527",
   "metadata": {},
   "source": [
    "### 2. How many elements are in the number Series?"
   ]
  },
  {
   "cell_type": "code",
   "execution_count": 302,
   "id": "7aa9e4c4-1067-4ab5-9c7a-9b97478d72b3",
   "metadata": {
    "tags": []
   },
   "outputs": [
    {
     "data": {
      "text/plain": [
       "20"
      ]
     },
     "execution_count": 302,
     "metadata": {},
     "output_type": "execute_result"
    }
   ],
   "source": [
    "numbers.count()"
   ]
  },
  {
   "cell_type": "markdown",
   "id": "c502934d-c424-47c4-a568-d8bb4dc1f15f",
   "metadata": {},
   "source": [
    "### 3. Perform the necessary manipulations by accessing Series attributes and methods to convert the numbers Series to a numeric data type."
   ]
  },
  {
   "cell_type": "code",
   "execution_count": 304,
   "id": "e8e93659-3e14-4dc0-8599-5a0c94f527c6",
   "metadata": {
    "tags": []
   },
   "outputs": [
    {
     "data": {
      "text/plain": [
       "count              20\n",
       "unique             20\n",
       "top       $796,459.41\n",
       "freq                1\n",
       "dtype: object"
      ]
     },
     "execution_count": 304,
     "metadata": {},
     "output_type": "execute_result"
    }
   ],
   "source": [
    "numbers.describe()"
   ]
  },
  {
   "cell_type": "code",
   "execution_count": 320,
   "id": "885e7e56-52cc-4834-b7e4-997a7cf884cc",
   "metadata": {
    "tags": []
   },
   "outputs": [],
   "source": [
    "numeric_numbers = numbers.str.replace('$','').str.replace(',','') #sandwich .str --- MultiIndex means you need to add another .str\n",
    "numbers_float = numeric_numbers.astype('float')"
   ]
  },
  {
   "cell_type": "markdown",
   "id": "17bfdec6-036e-448a-8fbe-de42c19573ba",
   "metadata": {},
   "source": [
    "### 4. Run the code to discover the maximum value from the Series."
   ]
  },
  {
   "cell_type": "code",
   "execution_count": 321,
   "id": "b327ba6c-4773-45fb-8d4b-78c314f5d69d",
   "metadata": {
    "tags": []
   },
   "outputs": [
    {
     "data": {
      "text/plain": [
       "0      796459.41\n",
       "1         278.60\n",
       "2      482571.67\n",
       "3     4503915.98\n",
       "4     2121418.30\n",
       "5     1260813.30\n",
       "6       87231.01\n",
       "7     1509175.45\n",
       "8     4138548.00\n",
       "9     2848913.80\n",
       "10     594715.39\n",
       "11    4789988.17\n",
       "12    4513644.50\n",
       "13    3191059.97\n",
       "14    1758712.24\n",
       "15    4338283.54\n",
       "16    4738303.38\n",
       "17    2791759.67\n",
       "18     769681.94\n",
       "19     452650.23\n",
       "dtype: float64"
      ]
     },
     "execution_count": 321,
     "metadata": {},
     "output_type": "execute_result"
    }
   ],
   "source": [
    "numbers_float"
   ]
  },
  {
   "cell_type": "code",
   "execution_count": 323,
   "id": "a62eebc2-9482-411b-b570-c67c7a014e25",
   "metadata": {
    "tags": []
   },
   "outputs": [
    {
     "data": {
      "text/plain": [
       "4789988.17"
      ]
     },
     "execution_count": 323,
     "metadata": {},
     "output_type": "execute_result"
    }
   ],
   "source": [
    "numbers_float.max()"
   ]
  },
  {
   "cell_type": "markdown",
   "id": "331c767d-264c-44a5-9dc4-bfbf3831dc9e",
   "metadata": {},
   "source": [
    "### 5. Run the code to discover the minimum value from the Series."
   ]
  },
  {
   "cell_type": "code",
   "execution_count": 324,
   "id": "d8d75fc1-2037-471d-b0a3-53d2cc4603d5",
   "metadata": {
    "tags": []
   },
   "outputs": [
    {
     "data": {
      "text/plain": [
       "278.6"
      ]
     },
     "execution_count": 324,
     "metadata": {},
     "output_type": "execute_result"
    }
   ],
   "source": [
    "numbers_float.min()"
   ]
  },
  {
   "cell_type": "markdown",
   "id": "fd4b3274-8807-4351-ba99-ab1fbe9a83aa",
   "metadata": {},
   "source": [
    "### 6. What is the range of the values in the Series?"
   ]
  },
  {
   "cell_type": "code",
   "execution_count": 381,
   "id": "e9ed9f7c-3601-452f-8369-56c2d4670942",
   "metadata": {
    "tags": []
   },
   "outputs": [
    {
     "name": "stdout",
     "output_type": "stream",
     "text": [
      "Range: 278.6 - 4789988.17\n"
     ]
    }
   ],
   "source": [
    "print(f'Range: {numbers_float.min()} - {numbers_float.max()}')"
   ]
  },
  {
   "cell_type": "code",
   "execution_count": 382,
   "id": "1ede8b1e-45f1-4367-b410-ae10afb9a90a",
   "metadata": {
    "tags": []
   },
   "outputs": [
    {
     "data": {
      "text/plain": [
       "count    2.000000e+01\n",
       "mean     2.284406e+06\n",
       "std      1.735261e+06\n",
       "min      2.786000e+02\n",
       "25%      7.259403e+05\n",
       "50%      1.940065e+06\n",
       "75%      4.188482e+06\n",
       "max      4.789988e+06\n",
       "dtype: float64"
      ]
     },
     "execution_count": 382,
     "metadata": {},
     "output_type": "execute_result"
    }
   ],
   "source": [
    "numbers_float.describe()"
   ]
  },
  {
   "cell_type": "markdown",
   "id": "27265208-8821-4445-8e26-30aa88fd4ec6",
   "metadata": {},
   "source": [
    "### 7. Bin the data into 4 equally sized intervals or bins and output how many values fall into each bin."
   ]
  },
  {
   "cell_type": "code",
   "execution_count": 337,
   "id": "17729f4e-cbd1-4c28-b36d-44df831e1c31",
   "metadata": {
    "tags": []
   },
   "outputs": [
    {
     "data": {
      "text/plain": [
       "0        (-4511.11, 1197705.993]\n",
       "1        (-4511.11, 1197705.993]\n",
       "2        (-4511.11, 1197705.993]\n",
       "3      (3592560.778, 4789988.17]\n",
       "4     (1197705.993, 2395133.385]\n",
       "5     (1197705.993, 2395133.385]\n",
       "6        (-4511.11, 1197705.993]\n",
       "7     (1197705.993, 2395133.385]\n",
       "8      (3592560.778, 4789988.17]\n",
       "9     (2395133.385, 3592560.778]\n",
       "10       (-4511.11, 1197705.993]\n",
       "11     (3592560.778, 4789988.17]\n",
       "12     (3592560.778, 4789988.17]\n",
       "13    (2395133.385, 3592560.778]\n",
       "14    (1197705.993, 2395133.385]\n",
       "15     (3592560.778, 4789988.17]\n",
       "16     (3592560.778, 4789988.17]\n",
       "17    (2395133.385, 3592560.778]\n",
       "18       (-4511.11, 1197705.993]\n",
       "19       (-4511.11, 1197705.993]\n",
       "dtype: category\n",
       "Categories (4, interval[float64, right]): [(-4511.11, 1197705.993] < (1197705.993, 2395133.385] < (2395133.385, 3592560.778] < (3592560.778, 4789988.17]]"
      ]
     },
     "execution_count": 337,
     "metadata": {},
     "output_type": "execute_result"
    }
   ],
   "source": [
    "pd.cut(numbers_float, bins=4)"
   ]
  },
  {
   "cell_type": "code",
   "execution_count": 383,
   "id": "9a58c3cc-e186-4fe1-bc49-a9cc1811caac",
   "metadata": {
    "tags": []
   },
   "outputs": [
    {
     "data": {
      "text/plain": [
       "(-4511.11, 1197705.993]       7\n",
       "(3592560.778, 4789988.17]     6\n",
       "(1197705.993, 2395133.385]    4\n",
       "(2395133.385, 3592560.778]    3\n",
       "Name: count, dtype: int64"
      ]
     },
     "execution_count": 383,
     "metadata": {},
     "output_type": "execute_result"
    }
   ],
   "source": [
    "pd.cut(numbers_float, bins=4).value_counts()"
   ]
  },
  {
   "cell_type": "markdown",
   "id": "e151eb83-f0ba-4e98-ad43-7d1c18763d35",
   "metadata": {},
   "source": [
    "### 8. Plot the binned data in a meaningful way. Be sure to include a title and axis labels."
   ]
  },
  {
   "cell_type": "code",
   "execution_count": 386,
   "id": "3b8c4e78-0619-4fdf-8b95-2dfedad638df",
   "metadata": {
    "tags": []
   },
   "outputs": [
    {
     "data": {
      "text/plain": [
       "<Axes: >"
      ]
     },
     "execution_count": 386,
     "metadata": {},
     "output_type": "execute_result"
    },
    {
     "data": {
      "image/png": "[encoded data removed]",
      "text/plain": [
       "<Figure size 640x480 with 1 Axes>"
      ]
     },
     "metadata": {},
     "output_type": "display_data"
    }
   ],
   "source": [
    "pd.cut(numbers_float, bins=4).value_counts().sort_index().plot.bar()"
   ]
  },
  {
   "cell_type": "markdown",
   "id": "147e06ca-5957-4495-80c8-e3ceb7341347",
   "metadata": {
    "tags": []
   },
   "source": [
    "### Use pandas to create a Series named exam_scores from the following list:\n",
    "\n",
    "[60, 86, 75, 62, 93, 71, 60, 83, 95, 78, 65, 72, 69, 81, 96, 80, 85, 92, 82, 78]"
   ]
  },
  {
   "cell_type": "code",
   "execution_count": 390,
   "id": "a5506b96-8386-4aa6-81d4-46a75567bf6c",
   "metadata": {
    "tags": []
   },
   "outputs": [],
   "source": [
    "exam_scores = pd.Series([60, 86, 75, 62, 93, 71, 60, 83, 95, 78, 65, 72, 69, 81, 96, 80, 85, 92, 82, 78])"
   ]
  },
  {
   "cell_type": "code",
   "execution_count": 391,
   "id": "c69f930e-348e-456a-91cb-a34f7ce7ac5a",
   "metadata": {
    "tags": []
   },
   "outputs": [
    {
     "data": {
      "text/plain": [
       "0     60\n",
       "1     86\n",
       "2     75\n",
       "3     62\n",
       "4     93\n",
       "5     71\n",
       "6     60\n",
       "7     83\n",
       "8     95\n",
       "9     78\n",
       "10    65\n",
       "11    72\n",
       "12    69\n",
       "13    81\n",
       "14    96\n",
       "15    80\n",
       "16    85\n",
       "17    92\n",
       "18    82\n",
       "19    78\n",
       "dtype: int64"
      ]
     },
     "execution_count": 391,
     "metadata": {},
     "output_type": "execute_result"
    }
   ],
   "source": [
    "exam_scores"
   ]
  },
  {
   "cell_type": "markdown",
   "id": "de94df04-6192-4522-8b94-7ba26f5ee066",
   "metadata": {},
   "source": [
    "### 1. How many elements are in the exam_scores Series?"
   ]
  },
  {
   "cell_type": "code",
   "execution_count": 392,
   "id": "b430b597-1223-4ed0-a892-63b8ffb35af2",
   "metadata": {
    "tags": []
   },
   "outputs": [
    {
     "data": {
      "text/plain": [
       "20"
      ]
     },
     "execution_count": 392,
     "metadata": {},
     "output_type": "execute_result"
    }
   ],
   "source": [
    "len(exam_scores)"
   ]
  },
  {
   "cell_type": "markdown",
   "id": "21a45b25-fbfd-45ad-bacf-3fe649d2b620",
   "metadata": {},
   "source": [
    "### 2. Run the code to discover the minimum, the maximum, the mean, and the median scores for the exam_scores Series."
   ]
  },
  {
   "cell_type": "code",
   "execution_count": 393,
   "id": "8a964e95-9b42-4eca-9932-aee8c27d4293",
   "metadata": {
    "tags": []
   },
   "outputs": [
    {
     "data": {
      "text/plain": [
       "count    20.000000\n",
       "mean     78.150000\n",
       "std      11.352139\n",
       "min      60.000000\n",
       "25%      70.500000\n",
       "50%      79.000000\n",
       "75%      85.250000\n",
       "max      96.000000\n",
       "dtype: float64"
      ]
     },
     "execution_count": 393,
     "metadata": {},
     "output_type": "execute_result"
    }
   ],
   "source": [
    "exam_scores.describe()"
   ]
  },
  {
   "cell_type": "code",
   "execution_count": 394,
   "id": "345b69a8-b29e-476c-8166-557f82fda813",
   "metadata": {
    "tags": []
   },
   "outputs": [
    {
     "data": {
      "text/plain": [
       "79.0"
      ]
     },
     "execution_count": 394,
     "metadata": {},
     "output_type": "execute_result"
    }
   ],
   "source": [
    "exam_scores.median()"
   ]
  },
  {
   "cell_type": "markdown",
   "id": "db732a21-d42e-4c85-821b-09f31d80a22d",
   "metadata": {},
   "source": [
    "### 3. Plot the Series in a meaningful way and make sure your chart has a title and axis labels."
   ]
  },
  {
   "cell_type": "code",
   "execution_count": 395,
   "id": "704b7536-7f53-4123-8b54-fa9a5e571f5b",
   "metadata": {
    "tags": []
   },
   "outputs": [
    {
     "data": {
      "text/plain": [
       "<Axes: >"
      ]
     },
     "execution_count": 395,
     "metadata": {},
     "output_type": "execute_result"
    },
    {
     "data": {
      "image/png": "[encoded data removed]",
      "text/plain": [
       "<Figure size 640x480 with 1 Axes>"
      ]
     },
     "metadata": {},
     "output_type": "display_data"
    }
   ],
   "source": [
    "exam_scores.plot()"
   ]
  },
  {
   "cell_type": "markdown",
   "id": "22d0d1d0-f855-486a-9ef4-584da3feda41",
   "metadata": {},
   "source": [
    "### 4. Write the code necessary to implement a curve for your exam_grades Series and save this as curved_grades. Add the necessary points to the highest grade to make it 100, and add the same number of points to every other score in the Series as well."
   ]
  },
  {
   "cell_type": "code",
   "execution_count": null,
   "id": "6fd2c0cf-75d1-4c84-b209-9230f1c74006",
   "metadata": {},
   "outputs": [],
   "source": []
  },
  {
   "cell_type": "markdown",
   "id": "41c9acaa-0315-4f83-991c-1c9f6e4ede2e",
   "metadata": {},
   "source": [
    "### 5. Use a method to convert each of the numeric values in the curved_grades Series into a categorical value of letter grades. For example, 86 should be a 'B' and 95 should be an 'A'. Save this as a Series named letter_grades."
   ]
  },
  {
   "cell_type": "code",
   "execution_count": null,
   "id": "d51d147e-a6df-4950-a245-f2f4bd771739",
   "metadata": {},
   "outputs": [],
   "source": []
  },
  {
   "cell_type": "markdown",
   "id": "acf44f8e-0475-4d73-88d1-355378bcd0fa",
   "metadata": {},
   "source": [
    "### 6. Plot your new categorical letter_grades Series in a meaninful way and include a title and axis labels."
   ]
  },
  {
   "cell_type": "code",
   "execution_count": null,
   "id": "99aeae98-3d06-4522-acb6-5f7fd99ca4c2",
   "metadata": {},
   "outputs": [],
   "source": []
  }
 ],
 "metadata": {
  "kernelspec": {
   "display_name": "Python 3 (ipykernel)",
   "language": "python",
   "name": "python3"
  },
  "language_info": {
   "codemirror_mode": {
    "name": "ipython",
    "version": 3
   },
   "file_extension": ".py",
   "mimetype": "text/x-python",
   "name": "python",
   "nbconvert_exporter": "python",
   "pygments_lexer": "ipython3",
   "version": "3.11.5"
  }
 },
 "nbformat": 4,
 "nbformat_minor": 5
}
